{
 "cells": [
  {
   "cell_type": "code",
   "execution_count": 59,
   "id": "0ccc387e",
   "metadata": {},
   "outputs": [],
   "source": [
    "import pandas as pd\n",
    "import numpy as np\n",
    "import matplotlib.pyplot as plt\n",
    "import seaborn as sns\n",
    "import statsmodels.api as sm_api\n",
    "from statsmodels.tsa.stattools import adfuller\n",
    "from tbats import TBATS\n",
    "from pylab import rcParams\n",
    "from utils.paths import DATA_RAW_DIR\n",
    "from pathlib import Path\n",
    "import matplotlib.dates as mdates\n",
    "from plotly.subplots import make_subplots\n",
    "import plotly.graph_objects as go"
   ]
  },
  {
   "cell_type": "code",
   "execution_count": 11,
   "id": "1a90b774",
   "metadata": {},
   "outputs": [
    {
     "name": "stdout",
     "output_type": "stream",
     "text": [
      "True\n"
     ]
    }
   ],
   "source": [
    "data_path = str(DATA_RAW_DIR / \"train_jp.csv\")\n",
    "print(Path(data_path).exists())"
   ]
  },
  {
   "cell_type": "code",
   "execution_count": 12,
   "id": "bd75f892",
   "metadata": {},
   "outputs": [
    {
     "data": {
      "application/vnd.microsoft.datawrangler.viewer.v0+json": {
       "columns": [
        {
         "name": "index",
         "rawType": "int64",
         "type": "integer"
        },
        {
         "name": "date",
         "rawType": "object",
         "type": "string"
        },
        {
         "name": "store",
         "rawType": "int64",
         "type": "integer"
        },
        {
         "name": "item",
         "rawType": "int64",
         "type": "integer"
        },
        {
         "name": "sales",
         "rawType": "int64",
         "type": "integer"
        }
       ],
       "ref": "28059e51-3704-4f7e-9359-04bb0ccf24a3",
       "rows": [
        [
         "0",
         "2019-01-01",
         "1",
         "1",
         "13"
        ],
        [
         "1",
         "2019-01-02",
         "1",
         "1",
         "11"
        ],
        [
         "2",
         "2019-01-03",
         "1",
         "1",
         "14"
        ],
        [
         "3",
         "2019-01-04",
         "1",
         "1",
         "13"
        ],
        [
         "4",
         "2019-01-05",
         "1",
         "1",
         "10"
        ]
       ],
       "shape": {
        "columns": 4,
        "rows": 5
       }
      },
      "text/html": [
       "<div>\n",
       "<style scoped>\n",
       "    .dataframe tbody tr th:only-of-type {\n",
       "        vertical-align: middle;\n",
       "    }\n",
       "\n",
       "    .dataframe tbody tr th {\n",
       "        vertical-align: top;\n",
       "    }\n",
       "\n",
       "    .dataframe thead th {\n",
       "        text-align: right;\n",
       "    }\n",
       "</style>\n",
       "<table border=\"1\" class=\"dataframe\">\n",
       "  <thead>\n",
       "    <tr style=\"text-align: right;\">\n",
       "      <th></th>\n",
       "      <th>date</th>\n",
       "      <th>store</th>\n",
       "      <th>item</th>\n",
       "      <th>sales</th>\n",
       "    </tr>\n",
       "  </thead>\n",
       "  <tbody>\n",
       "    <tr>\n",
       "      <th>0</th>\n",
       "      <td>2019-01-01</td>\n",
       "      <td>1</td>\n",
       "      <td>1</td>\n",
       "      <td>13</td>\n",
       "    </tr>\n",
       "    <tr>\n",
       "      <th>1</th>\n",
       "      <td>2019-01-02</td>\n",
       "      <td>1</td>\n",
       "      <td>1</td>\n",
       "      <td>11</td>\n",
       "    </tr>\n",
       "    <tr>\n",
       "      <th>2</th>\n",
       "      <td>2019-01-03</td>\n",
       "      <td>1</td>\n",
       "      <td>1</td>\n",
       "      <td>14</td>\n",
       "    </tr>\n",
       "    <tr>\n",
       "      <th>3</th>\n",
       "      <td>2019-01-04</td>\n",
       "      <td>1</td>\n",
       "      <td>1</td>\n",
       "      <td>13</td>\n",
       "    </tr>\n",
       "    <tr>\n",
       "      <th>4</th>\n",
       "      <td>2019-01-05</td>\n",
       "      <td>1</td>\n",
       "      <td>1</td>\n",
       "      <td>10</td>\n",
       "    </tr>\n",
       "  </tbody>\n",
       "</table>\n",
       "</div>"
      ],
      "text/plain": [
       "         date  store  item  sales\n",
       "0  2019-01-01      1     1     13\n",
       "1  2019-01-02      1     1     11\n",
       "2  2019-01-03      1     1     14\n",
       "3  2019-01-04      1     1     13\n",
       "4  2019-01-05      1     1     10"
      ]
     },
     "execution_count": 12,
     "metadata": {},
     "output_type": "execute_result"
    }
   ],
   "source": [
    "df_sales = pd.read_csv(data_path, parse_dates=[\"date\"])\n",
    "df_sales.head()"
   ]
  },
  {
   "cell_type": "code",
   "execution_count": 13,
   "id": "5ae085a3",
   "metadata": {},
   "outputs": [
    {
     "data": {
      "application/vnd.microsoft.datawrangler.viewer.v0+json": {
       "columns": [
        {
         "name": "index",
         "rawType": "object",
         "type": "string"
        },
        {
         "name": "0",
         "rawType": "int64",
         "type": "integer"
        }
       ],
       "ref": "468ab4bd-e793-4ba2-bf53-515e056cf83f",
       "rows": [
        [
         "date",
         "0"
        ],
        [
         "store",
         "0"
        ],
        [
         "item",
         "0"
        ],
        [
         "sales",
         "0"
        ]
       ],
       "shape": {
        "columns": 1,
        "rows": 4
       }
      },
      "text/plain": [
       "date     0\n",
       "store    0\n",
       "item     0\n",
       "sales    0\n",
       "dtype: int64"
      ]
     },
     "execution_count": 13,
     "metadata": {},
     "output_type": "execute_result"
    }
   ],
   "source": [
    "# Null data\n",
    "df_sales.isnull().sum()"
   ]
  },
  {
   "cell_type": "code",
   "execution_count": 14,
   "id": "fa45f592",
   "metadata": {},
   "outputs": [
    {
     "data": {
      "text/plain": [
       "np.int64(0)"
      ]
     },
     "execution_count": 14,
     "metadata": {},
     "output_type": "execute_result"
    }
   ],
   "source": [
    "# duplicates\n",
    "df_sales.duplicated().sum()"
   ]
  },
  {
   "cell_type": "code",
   "execution_count": 15,
   "id": "d4478fb0",
   "metadata": {},
   "outputs": [
    {
     "data": {
      "text/plain": [
       "(913000, 4)"
      ]
     },
     "execution_count": 15,
     "metadata": {},
     "output_type": "execute_result"
    }
   ],
   "source": [
    "# dimensiones\n",
    "df_sales.shape"
   ]
  },
  {
   "cell_type": "code",
   "execution_count": 16,
   "id": "5e1ab286",
   "metadata": {},
   "outputs": [
    {
     "name": "stdout",
     "output_type": "stream",
     "text": [
      "<class 'pandas.core.frame.DataFrame'>\n",
      "RangeIndex: 913000 entries, 0 to 912999\n",
      "Data columns (total 4 columns):\n",
      " #   Column  Non-Null Count   Dtype \n",
      "---  ------  --------------   ----- \n",
      " 0   date    913000 non-null  object\n",
      " 1   store   913000 non-null  int64 \n",
      " 2   item    913000 non-null  int64 \n",
      " 3   sales   913000 non-null  int64 \n",
      "dtypes: int64(3), object(1)\n",
      "memory usage: 27.9+ MB\n"
     ]
    }
   ],
   "source": [
    "# info\n",
    "df_sales.info()"
   ]
  },
  {
   "cell_type": "code",
   "execution_count": 18,
   "id": "b72de4f3",
   "metadata": {},
   "outputs": [],
   "source": [
    "# filter dataframe by item and store\n",
    "item = 4\n",
    "store = 2\n",
    "df_sales_filtered = df_sales[(df_sales[\"item\"] == item)\n",
    "                        & (df_sales[\"store\"] == store)].copy()\n",
    "# set date as index\n",
    "df_sales_filtered.set_index(\"date\", inplace=True)"
   ]
  },
  {
   "cell_type": "code",
   "execution_count": 19,
   "id": "152b6071",
   "metadata": {},
   "outputs": [
    {
     "data": {
      "text/plain": [
       "(1826, 3)"
      ]
     },
     "execution_count": 19,
     "metadata": {},
     "output_type": "execute_result"
    }
   ],
   "source": [
    "df_sales_filtered.shape"
   ]
  },
  {
   "cell_type": "code",
   "execution_count": 20,
   "id": "390724e1",
   "metadata": {},
   "outputs": [
    {
     "data": {
      "application/vnd.microsoft.datawrangler.viewer.v0+json": {
       "columns": [
        {
         "name": "date",
         "rawType": "object",
         "type": "string"
        },
        {
         "name": "store",
         "rawType": "int64",
         "type": "integer"
        },
        {
         "name": "item",
         "rawType": "int64",
         "type": "integer"
        },
        {
         "name": "sales",
         "rawType": "int64",
         "type": "integer"
        }
       ],
       "ref": "8c5f2ae9-ae03-409b-b4f8-df3e2e98c2b3",
       "rows": [
        [
         "2019-01-01",
         "2",
         "4",
         "21"
        ],
        [
         "2019-01-02",
         "2",
         "4",
         "14"
        ],
        [
         "2019-01-03",
         "2",
         "4",
         "12"
        ],
        [
         "2019-01-04",
         "2",
         "4",
         "17"
        ],
        [
         "2019-01-05",
         "2",
         "4",
         "14"
        ]
       ],
       "shape": {
        "columns": 3,
        "rows": 5
       }
      },
      "text/html": [
       "<div>\n",
       "<style scoped>\n",
       "    .dataframe tbody tr th:only-of-type {\n",
       "        vertical-align: middle;\n",
       "    }\n",
       "\n",
       "    .dataframe tbody tr th {\n",
       "        vertical-align: top;\n",
       "    }\n",
       "\n",
       "    .dataframe thead th {\n",
       "        text-align: right;\n",
       "    }\n",
       "</style>\n",
       "<table border=\"1\" class=\"dataframe\">\n",
       "  <thead>\n",
       "    <tr style=\"text-align: right;\">\n",
       "      <th></th>\n",
       "      <th>store</th>\n",
       "      <th>item</th>\n",
       "      <th>sales</th>\n",
       "    </tr>\n",
       "    <tr>\n",
       "      <th>date</th>\n",
       "      <th></th>\n",
       "      <th></th>\n",
       "      <th></th>\n",
       "    </tr>\n",
       "  </thead>\n",
       "  <tbody>\n",
       "    <tr>\n",
       "      <th>2019-01-01</th>\n",
       "      <td>2</td>\n",
       "      <td>4</td>\n",
       "      <td>21</td>\n",
       "    </tr>\n",
       "    <tr>\n",
       "      <th>2019-01-02</th>\n",
       "      <td>2</td>\n",
       "      <td>4</td>\n",
       "      <td>14</td>\n",
       "    </tr>\n",
       "    <tr>\n",
       "      <th>2019-01-03</th>\n",
       "      <td>2</td>\n",
       "      <td>4</td>\n",
       "      <td>12</td>\n",
       "    </tr>\n",
       "    <tr>\n",
       "      <th>2019-01-04</th>\n",
       "      <td>2</td>\n",
       "      <td>4</td>\n",
       "      <td>17</td>\n",
       "    </tr>\n",
       "    <tr>\n",
       "      <th>2019-01-05</th>\n",
       "      <td>2</td>\n",
       "      <td>4</td>\n",
       "      <td>14</td>\n",
       "    </tr>\n",
       "  </tbody>\n",
       "</table>\n",
       "</div>"
      ],
      "text/plain": [
       "            store  item  sales\n",
       "date                          \n",
       "2019-01-01      2     4     21\n",
       "2019-01-02      2     4     14\n",
       "2019-01-03      2     4     12\n",
       "2019-01-04      2     4     17\n",
       "2019-01-05      2     4     14"
      ]
     },
     "execution_count": 20,
     "metadata": {},
     "output_type": "execute_result"
    }
   ],
   "source": [
    "df_sales_filtered.head()"
   ]
  },
  {
   "cell_type": "code",
   "execution_count": 22,
   "id": "0ff596b0",
   "metadata": {},
   "outputs": [
    {
     "data": {
      "application/vnd.microsoft.datawrangler.viewer.v0+json": {
       "columns": [
        {
         "name": "date",
         "rawType": "object",
         "type": "string"
        },
        {
         "name": "sales",
         "rawType": "int64",
         "type": "integer"
        }
       ],
       "ref": "af3c963d-f01a-4f35-9aa7-6981d866b3f8",
       "rows": [
        [
         "2019-01-01",
         "21"
        ],
        [
         "2019-01-02",
         "14"
        ],
        [
         "2019-01-03",
         "12"
        ],
        [
         "2019-01-04",
         "17"
        ],
        [
         "2019-01-05",
         "14"
        ],
        [
         "2019-01-06",
         "17"
        ],
        [
         "2019-01-07",
         "13"
        ],
        [
         "2019-01-08",
         "10"
        ],
        [
         "2019-01-09",
         "11"
        ],
        [
         "2019-01-10",
         "12"
        ],
        [
         "2019-01-11",
         "14"
        ],
        [
         "2019-01-12",
         "17"
        ],
        [
         "2019-01-13",
         "23"
        ],
        [
         "2019-01-14",
         "12"
        ],
        [
         "2019-01-15",
         "10"
        ],
        [
         "2019-01-16",
         "19"
        ],
        [
         "2019-01-17",
         "16"
        ],
        [
         "2019-01-18",
         "13"
        ],
        [
         "2019-01-19",
         "18"
        ],
        [
         "2019-01-20",
         "23"
        ],
        [
         "2019-01-21",
         "11"
        ],
        [
         "2019-01-22",
         "15"
        ],
        [
         "2019-01-23",
         "13"
        ],
        [
         "2019-01-24",
         "14"
        ],
        [
         "2019-01-25",
         "16"
        ],
        [
         "2019-01-26",
         "18"
        ],
        [
         "2019-01-27",
         "18"
        ],
        [
         "2019-01-28",
         "11"
        ],
        [
         "2019-01-29",
         "13"
        ],
        [
         "2019-01-30",
         "16"
        ],
        [
         "2019-01-31",
         "17"
        ],
        [
         "2019-02-01",
         "22"
        ],
        [
         "2019-02-02",
         "21"
        ],
        [
         "2019-02-03",
         "29"
        ],
        [
         "2019-02-04",
         "14"
        ],
        [
         "2019-02-05",
         "9"
        ],
        [
         "2019-02-06",
         "11"
        ],
        [
         "2019-02-07",
         "20"
        ],
        [
         "2019-02-08",
         "18"
        ],
        [
         "2019-02-09",
         "15"
        ],
        [
         "2019-02-10",
         "28"
        ],
        [
         "2019-02-11",
         "19"
        ],
        [
         "2019-02-12",
         "14"
        ],
        [
         "2019-02-13",
         "18"
        ],
        [
         "2019-02-14",
         "17"
        ],
        [
         "2019-02-15",
         "17"
        ],
        [
         "2019-02-16",
         "17"
        ],
        [
         "2019-02-17",
         "23"
        ],
        [
         "2019-02-18",
         "12"
        ],
        [
         "2019-02-19",
         "13"
        ]
       ],
       "shape": {
        "columns": 1,
        "rows": 1826
       }
      },
      "text/plain": [
       "date\n",
       "2019-01-01    21\n",
       "2019-01-02    14\n",
       "2019-01-03    12\n",
       "2019-01-04    17\n",
       "2019-01-05    14\n",
       "              ..\n",
       "2023-12-27    26\n",
       "2023-12-28    23\n",
       "2023-12-29    21\n",
       "2023-12-30    35\n",
       "2023-12-31    29\n",
       "Name: sales, Length: 1826, dtype: int64"
      ]
     },
     "execution_count": 22,
     "metadata": {},
     "output_type": "execute_result"
    }
   ],
   "source": [
    "df_sales_2 = df_sales_filtered['sales'].copy()\n",
    "df_sales_2"
   ]
  },
  {
   "cell_type": "code",
   "execution_count": 39,
   "id": "9a4ead17",
   "metadata": {},
   "outputs": [],
   "source": [
    "# Reset index to prepare for plotting\n",
    "df_sales_2_plot = df_sales_2.reset_index()\n",
    "df_sales_2_plot['date'] = pd.to_datetime(df_sales_2_plot['date'], errors='coerce')"
   ]
  },
  {
   "cell_type": "code",
   "execution_count": 44,
   "id": "5f7e8bc0",
   "metadata": {},
   "outputs": [],
   "source": [
    "df_sales_2_plot.dropna(inplace=True)"
   ]
  },
  {
   "cell_type": "code",
   "execution_count": 45,
   "id": "6a6ad9c0",
   "metadata": {},
   "outputs": [
    {
     "data": {
      "text/plain": [
       "(1825, 2)"
      ]
     },
     "execution_count": 45,
     "metadata": {},
     "output_type": "execute_result"
    }
   ],
   "source": [
    "df_sales_2_plot.shape"
   ]
  },
  {
   "cell_type": "code",
   "execution_count": 49,
   "id": "c091da05",
   "metadata": {},
   "outputs": [
    {
     "data": {
      "image/png": "[encoded data removed]",
      "text/plain": [
       "<Figure size 1500x600 with 1 Axes>"
      ]
     },
     "metadata": {},
     "output_type": "display_data"
    }
   ],
   "source": [
    "fig, ax = plt.subplots(figsize=(15, 6))\n",
    "\n",
    "# Plot the data\n",
    "ax.plot(df_sales_2_plot['date'], df_sales_2_plot['sales'], linestyle='-')\n",
    "\n",
    "# Set title and labels\n",
    "ax.set_title(f'Sales for Item {item} at Store {store}')\n",
    "ax.set_xlabel('Date')\n",
    "ax.set_ylabel('Sales')\n",
    "\n",
    "\n",
    "plt.xticks(rotation=45)\n",
    "\n",
    "ax.xaxis.set_major_locator(mdates.MonthLocator(interval=3))\n",
    "ax.xaxis.set_major_formatter(mdates.DateFormatter('%m %Y'))\n",
    "plt.xticks(rotation=45)\n",
    "\n",
    "# Optional styling\n",
    "ax.grid(True)\n",
    "plt.tight_layout()\n",
    "plt.show()"
   ]
  },
  {
   "cell_type": "code",
   "execution_count": 54,
   "id": "014d9dae",
   "metadata": {},
   "outputs": [
    {
     "data": {
      "application/vnd.microsoft.datawrangler.viewer.v0+json": {
       "columns": [
        {
         "name": "index",
         "rawType": "int64",
         "type": "integer"
        },
        {
         "name": "date",
         "rawType": "datetime64[ns]",
         "type": "datetime"
        },
        {
         "name": "sales",
         "rawType": "int64",
         "type": "integer"
        }
       ],
       "ref": "cc3a220e-1ec6-4002-a4cf-bfeaf04e6ce2",
       "rows": [
        [
         "0",
         "2019-01-01 00:00:00",
         "21"
        ],
        [
         "1",
         "2019-01-02 00:00:00",
         "14"
        ],
        [
         "2",
         "2019-01-03 00:00:00",
         "12"
        ],
        [
         "3",
         "2019-01-04 00:00:00",
         "17"
        ],
        [
         "4",
         "2019-01-05 00:00:00",
         "14"
        ]
       ],
       "shape": {
        "columns": 2,
        "rows": 5
       }
      },
      "text/html": [
       "<div>\n",
       "<style scoped>\n",
       "    .dataframe tbody tr th:only-of-type {\n",
       "        vertical-align: middle;\n",
       "    }\n",
       "\n",
       "    .dataframe tbody tr th {\n",
       "        vertical-align: top;\n",
       "    }\n",
       "\n",
       "    .dataframe thead th {\n",
       "        text-align: right;\n",
       "    }\n",
       "</style>\n",
       "<table border=\"1\" class=\"dataframe\">\n",
       "  <thead>\n",
       "    <tr style=\"text-align: right;\">\n",
       "      <th></th>\n",
       "      <th>date</th>\n",
       "      <th>sales</th>\n",
       "    </tr>\n",
       "  </thead>\n",
       "  <tbody>\n",
       "    <tr>\n",
       "      <th>0</th>\n",
       "      <td>2019-01-01</td>\n",
       "      <td>21</td>\n",
       "    </tr>\n",
       "    <tr>\n",
       "      <th>1</th>\n",
       "      <td>2019-01-02</td>\n",
       "      <td>14</td>\n",
       "    </tr>\n",
       "    <tr>\n",
       "      <th>2</th>\n",
       "      <td>2019-01-03</td>\n",
       "      <td>12</td>\n",
       "    </tr>\n",
       "    <tr>\n",
       "      <th>3</th>\n",
       "      <td>2019-01-04</td>\n",
       "      <td>17</td>\n",
       "    </tr>\n",
       "    <tr>\n",
       "      <th>4</th>\n",
       "      <td>2019-01-05</td>\n",
       "      <td>14</td>\n",
       "    </tr>\n",
       "  </tbody>\n",
       "</table>\n",
       "</div>"
      ],
      "text/plain": [
       "        date  sales\n",
       "0 2019-01-01     21\n",
       "1 2019-01-02     14\n",
       "2 2019-01-03     12\n",
       "3 2019-01-04     17\n",
       "4 2019-01-05     14"
      ]
     },
     "execution_count": 54,
     "metadata": {},
     "output_type": "execute_result"
    }
   ],
   "source": [
    "df_sales_2_plot.head()"
   ]
  },
  {
   "cell_type": "code",
   "execution_count": null,
   "id": "50c488ed",
   "metadata": {},
   "outputs": [
    {
     "data": {
      "text/plain": [
       "(365, 2)"
      ]
     },
     "execution_count": 56,
     "metadata": {},
     "output_type": "execute_result"
    }
   ],
   "source": [
    "# 2019 sales data\n",
    "df_sales_2019 = df_sales_2_plot[df_sales_2_plot['date'].dt.year == 2019].copy()\n",
    "df_sales_2019.shape"
   ]
  },
  {
   "cell_type": "code",
   "execution_count": 58,
   "id": "940f2c08",
   "metadata": {},
   "outputs": [
    {
     "data": {
      "text/plain": [
       "(31, 2)"
      ]
     },
     "execution_count": 58,
     "metadata": {},
     "output_type": "execute_result"
    }
   ],
   "source": [
    "# december 2022 data\n",
    "df_sales_dec_2022 = df_sales_2_plot[(df_sales_2_plot['date'].dt.month == 12) & (df_sales_2_plot['date'].dt.year == 2022)].copy()\n",
    "df_sales_dec_2022.shape\n"
   ]
  },
  {
   "cell_type": "code",
   "execution_count": 77,
   "id": "50b59523",
   "metadata": {},
   "outputs": [
    {
     "data": {
      "application/vnd.plotly.v1+json": {
       "config": {
        "plotlyServerURL": "https://plot.ly"
       },
       "data": [
        {
         "mode": "lines+markers",
         "name": "2019 Sales",
         "type": "scatter",
         "x": [
          "2019-01-01T00:00:00.000000000",
          "2019-01-02T00:00:00.000000000",
          "2019-01-03T00:00:00.000000000",
          "2019-01-04T00:00:00.000000000",
          "2019-01-05T00:00:00.000000000",
          "2019-01-06T00:00:00.000000000",
          "2019-01-07T00:00:00.000000000",
          "2019-01-08T00:00:00.000000000",
          "2019-01-09T00:00:00.000000000",
          "2019-01-10T00:00:00.000000000",
          "2019-01-11T00:00:00.000000000",
          "2019-01-12T00:00:00.000000000",
          "2019-01-13T00:00:00.000000000",
          "2019-01-14T00:00:00.000000000",
          "2019-01-15T00:00:00.000000000",
          "2019-01-16T00:00:00.000000000",
          "2019-01-17T00:00:00.000000000",
          "2019-01-18T00:00:00.000000000",
          "2019-01-19T00:00:00.000000000",
          "2019-01-20T00:00:00.000000000",
          "2019-01-21T00:00:00.000000000",
          "2019-01-22T00:00:00.000000000",
          "2019-01-23T00:00:00.000000000",
          "2019-01-24T00:00:00.000000000",
          "2019-01-25T00:00:00.000000000",
          "2019-01-26T00:00:00.000000000",
          "2019-01-27T00:00:00.000000000",
          "2019-01-28T00:00:00.000000000",
          "2019-01-29T00:00:00.000000000",
          "2019-01-30T00:00:00.000000000",
          "2019-01-31T00:00:00.000000000",
          "2019-02-01T00:00:00.000000000",
          "2019-02-02T00:00:00.000000000",
          "2019-02-03T00:00:00.000000000",
          "2019-02-04T00:00:00.000000000",
          "2019-02-05T00:00:00.000000000",
          "2019-02-06T00:00:00.000000000",
          "2019-02-07T00:00:00.000000000",
          "2019-02-08T00:00:00.000000000",
          "2019-02-09T00:00:00.000000000",
          "2019-02-10T00:00:00.000000000",
          "2019-02-11T00:00:00.000000000",
          "2019-02-12T00:00:00.000000000",
          "2019-02-13T00:00:00.000000000",
          "2019-02-14T00:00:00.000000000",
          "2019-02-15T00:00:00.000000000",
          "2019-02-16T00:00:00.000000000",
          "2019-02-17T00:00:00.000000000",
          "2019-02-18T00:00:00.000000000",
          "2019-02-19T00:00:00.000000000",
          "2019-02-20T00:00:00.000000000",
          "2019-02-21T00:00:00.000000000",
          "2019-02-22T00:00:00.000000000",
          "2019-02-23T00:00:00.000000000",
          "2019-02-24T00:00:00.000000000",
          "2019-02-25T00:00:00.000000000",
          "2019-02-26T00:00:00.000000000",
          "2019-02-27T00:00:00.000000000",
          "2019-02-28T00:00:00.000000000",
          "2019-03-01T00:00:00.000000000",
          "2019-03-02T00:00:00.000000000",
          "2019-03-03T00:00:00.000000000",
          "2019-03-04T00:00:00.000000000",
          "2019-03-05T00:00:00.000000000",
          "2019-03-06T00:00:00.000000000",
          "2019-03-07T00:00:00.000000000",
          "2019-03-08T00:00:00.000000000",
          "2019-03-09T00:00:00.000000000",
          "2019-03-10T00:00:00.000000000",
          "2019-03-11T00:00:00.000000000",
          "2019-03-12T00:00:00.000000000",
          "2019-03-13T00:00:00.000000000",
          "2019-03-14T00:00:00.000000000",
          "2019-03-15T00:00:00.000000000",
          "2019-03-16T00:00:00.000000000",
          "2019-03-17T00:00:00.000000000",
          "2019-03-18T00:00:00.000000000",
          "2019-03-19T00:00:00.000000000",
          "2019-03-20T00:00:00.000000000",
          "2019-03-21T00:00:00.000000000",
          "2019-03-22T00:00:00.000000000",
          "2019-03-23T00:00:00.000000000",
          "2019-03-24T00:00:00.000000000",
          "2019-03-25T00:00:00.000000000",
          "2019-03-26T00:00:00.000000000",
          "2019-03-27T00:00:00.000000000",
          "2019-03-28T00:00:00.000000000",
          "2019-03-29T00:00:00.000000000",
          "2019-03-30T00:00:00.000000000",
          "2019-03-31T00:00:00.000000000",
          "2019-04-01T00:00:00.000000000",
          "2019-04-02T00:00:00.000000000",
          "2019-04-03T00:00:00.000000000",
          "2019-04-04T00:00:00.000000000",
          "2019-04-05T00:00:00.000000000",
          "2019-04-06T00:00:00.000000000",
          "2019-04-07T00:00:00.000000000",
          "2019-04-08T00:00:00.000000000",
          "2019-04-09T00:00:00.000000000",
          "2019-04-10T00:00:00.000000000",
          "2019-04-11T00:00:00.000000000",
          "2019-04-12T00:00:00.000000000",
          "2019-04-13T00:00:00.000000000",
          "2019-04-14T00:00:00.000000000",
          "2019-04-15T00:00:00.000000000",
          "2019-04-16T00:00:00.000000000",
          "2019-04-17T00:00:00.000000000",
          "2019-04-18T00:00:00.000000000",
          "2019-04-19T00:00:00.000000000",
          "2019-04-20T00:00:00.000000000",
          "2019-04-21T00:00:00.000000000",
          "2019-04-22T00:00:00.000000000",
          "2019-04-23T00:00:00.000000000",
          "2019-04-24T00:00:00.000000000",
          "2019-04-25T00:00:00.000000000",
          "2019-04-26T00:00:00.000000000",
          "2019-04-27T00:00:00.000000000",
          "2019-04-28T00:00:00.000000000",
          "2019-04-29T00:00:00.000000000",
          "2019-04-30T00:00:00.000000000",
          "2019-05-01T00:00:00.000000000",
          "2019-05-02T00:00:00.000000000",
          "2019-05-03T00:00:00.000000000",
          "2019-05-04T00:00:00.000000000",
          "2019-05-05T00:00:00.000000000",
          "2019-05-06T00:00:00.000000000",
          "2019-05-07T00:00:00.000000000",
          "2019-05-08T00:00:00.000000000",
          "2019-05-09T00:00:00.000000000",
          "2019-05-10T00:00:00.000000000",
          "2019-05-11T00:00:00.000000000",
          "2019-05-12T00:00:00.000000000",
          "2019-05-13T00:00:00.000000000",
          "2019-05-14T00:00:00.000000000",
          "2019-05-15T00:00:00.000000000",
          "2019-05-16T00:00:00.000000000",
          "2019-05-17T00:00:00.000000000",
          "2019-05-18T00:00:00.000000000",
          "2019-05-19T00:00:00.000000000",
          "2019-05-20T00:00:00.000000000",
          "2019-05-21T00:00:00.000000000",
          "2019-05-22T00:00:00.000000000",
          "2019-05-23T00:00:00.000000000",
          "2019-05-24T00:00:00.000000000",
          "2019-05-25T00:00:00.000000000",
          "2019-05-26T00:00:00.000000000",
          "2019-05-27T00:00:00.000000000",
          "2019-05-28T00:00:00.000000000",
          "2019-05-29T00:00:00.000000000",
          "2019-05-30T00:00:00.000000000",
          "2019-05-31T00:00:00.000000000",
          "2019-06-01T00:00:00.000000000",
          "2019-06-02T00:00:00.000000000",
          "2019-06-03T00:00:00.000000000",
          "2019-06-04T00:00:00.000000000",
          "2019-06-05T00:00:00.000000000",
          "2019-06-06T00:00:00.000000000",
          "2019-06-07T00:00:00.000000000",
          "2019-06-08T00:00:00.000000000",
          "2019-06-09T00:00:00.000000000",
          "2019-06-10T00:00:00.000000000",
          "2019-06-11T00:00:00.000000000",
          "2019-06-12T00:00:00.000000000",
          "2019-06-13T00:00:00.000000000",
          "2019-06-14T00:00:00.000000000",
          "2019-06-15T00:00:00.000000000",
          "2019-06-16T00:00:00.000000000",
          "2019-06-17T00:00:00.000000000",
          "2019-06-18T00:00:00.000000000",
          "2019-06-19T00:00:00.000000000",
          "2019-06-20T00:00:00.000000000",
          "2019-06-21T00:00:00.000000000",
          "2019-06-22T00:00:00.000000000",
          "2019-06-23T00:00:00.000000000",
          "2019-06-24T00:00:00.000000000",
          "2019-06-25T00:00:00.000000000",
          "2019-06-26T00:00:00.000000000",
          "2019-06-27T00:00:00.000000000",
          "2019-06-28T00:00:00.000000000",
          "2019-06-29T00:00:00.000000000",
          "2019-06-30T00:00:00.000000000",
          "2019-07-01T00:00:00.000000000",
          "2019-07-02T00:00:00.000000000",
          "2019-07-03T00:00:00.000000000",
          "2019-07-04T00:00:00.000000000",
          "2019-07-05T00:00:00.000000000",
          "2019-07-06T00:00:00.000000000",
          "2019-07-07T00:00:00.000000000",
          "2019-07-08T00:00:00.000000000",
          "2019-07-09T00:00:00.000000000",
          "2019-07-10T00:00:00.000000000",
          "2019-07-11T00:00:00.000000000",
          "2019-07-12T00:00:00.000000000",
          "2019-07-13T00:00:00.000000000",
          "2019-07-14T00:00:00.000000000",
          "2019-07-15T00:00:00.000000000",
          "2019-07-16T00:00:00.000000000",
          "2019-07-17T00:00:00.000000000",
          "2019-07-18T00:00:00.000000000",
          "2019-07-19T00:00:00.000000000",
          "2019-07-20T00:00:00.000000000",
          "2019-07-21T00:00:00.000000000",
          "2019-07-22T00:00:00.000000000",
          "2019-07-23T00:00:00.000000000",
          "2019-07-24T00:00:00.000000000",
          "2019-07-25T00:00:00.000000000",
          "2019-07-26T00:00:00.000000000",
          "2019-07-27T00:00:00.000000000",
          "2019-07-28T00:00:00.000000000",
          "2019-07-29T00:00:00.000000000",
          "2019-07-30T00:00:00.000000000",
          "2019-07-31T00:00:00.000000000",
          "2019-08-01T00:00:00.000000000",
          "2019-08-02T00:00:00.000000000",
          "2019-08-03T00:00:00.000000000",
          "2019-08-04T00:00:00.000000000",
          "2019-08-05T00:00:00.000000000",
          "2019-08-06T00:00:00.000000000",
          "2019-08-07T00:00:00.000000000",
          "2019-08-08T00:00:00.000000000",
          "2019-08-09T00:00:00.000000000",
          "2019-08-10T00:00:00.000000000",
          "2019-08-11T00:00:00.000000000",
          "2019-08-12T00:00:00.000000000",
          "2019-08-13T00:00:00.000000000",
          "2019-08-14T00:00:00.000000000",
          "2019-08-15T00:00:00.000000000",
          "2019-08-16T00:00:00.000000000",
          "2019-08-17T00:00:00.000000000",
          "2019-08-18T00:00:00.000000000",
          "2019-08-19T00:00:00.000000000",
          "2019-08-20T00:00:00.000000000",
          "2019-08-21T00:00:00.000000000",
          "2019-08-22T00:00:00.000000000",
          "2019-08-23T00:00:00.000000000",
          "2019-08-24T00:00:00.000000000",
          "2019-08-25T00:00:00.000000000",
          "2019-08-26T00:00:00.000000000",
          "2019-08-27T00:00:00.000000000",
          "2019-08-28T00:00:00.000000000",
          "2019-08-29T00:00:00.000000000",
          "2019-08-30T00:00:00.000000000",
          "2019-08-31T00:00:00.000000000",
          "2019-09-01T00:00:00.000000000",
          "2019-09-02T00:00:00.000000000",
          "2019-09-03T00:00:00.000000000",
          "2019-09-04T00:00:00.000000000",
          "2019-09-05T00:00:00.000000000",
          "2019-09-06T00:00:00.000000000",
          "2019-09-07T00:00:00.000000000",
          "2019-09-08T00:00:00.000000000",
          "2019-09-09T00:00:00.000000000",
          "2019-09-10T00:00:00.000000000",
          "2019-09-11T00:00:00.000000000",
          "2019-09-12T00:00:00.000000000",
          "2019-09-13T00:00:00.000000000",
          "2019-09-14T00:00:00.000000000",
          "2019-09-15T00:00:00.000000000",
          "2019-09-16T00:00:00.000000000",
          "2019-09-17T00:00:00.000000000",
          "2019-09-18T00:00:00.000000000",
          "2019-09-19T00:00:00.000000000",
          "2019-09-20T00:00:00.000000000",
          "2019-09-21T00:00:00.000000000",
          "2019-09-22T00:00:00.000000000",
          "2019-09-23T00:00:00.000000000",
          "2019-09-24T00:00:00.000000000",
          "2019-09-25T00:00:00.000000000",
          "2019-09-26T00:00:00.000000000",
          "2019-09-27T00:00:00.000000000",
          "2019-09-28T00:00:00.000000000",
          "2019-09-29T00:00:00.000000000",
          "2019-09-30T00:00:00.000000000",
          "2019-10-01T00:00:00.000000000",
          "2019-10-02T00:00:00.000000000",
          "2019-10-03T00:00:00.000000000",
          "2019-10-04T00:00:00.000000000",
          "2019-10-05T00:00:00.000000000",
          "2019-10-06T00:00:00.000000000",
          "2019-10-07T00:00:00.000000000",
          "2019-10-08T00:00:00.000000000",
          "2019-10-09T00:00:00.000000000",
          "2019-10-10T00:00:00.000000000",
          "2019-10-11T00:00:00.000000000",
          "2019-10-12T00:00:00.000000000",
          "2019-10-13T00:00:00.000000000",
          "2019-10-14T00:00:00.000000000",
          "2019-10-15T00:00:00.000000000",
          "2019-10-16T00:00:00.000000000",
          "2019-10-17T00:00:00.000000000",
          "2019-10-18T00:00:00.000000000",
          "2019-10-19T00:00:00.000000000",
          "2019-10-20T00:00:00.000000000",
          "2019-10-21T00:00:00.000000000",
          "2019-10-22T00:00:00.000000000",
          "2019-10-23T00:00:00.000000000",
          "2019-10-24T00:00:00.000000000",
          "2019-10-25T00:00:00.000000000",
          "2019-10-26T00:00:00.000000000",
          "2019-10-27T00:00:00.000000000",
          "2019-10-28T00:00:00.000000000",
          "2019-10-29T00:00:00.000000000",
          "2019-10-30T00:00:00.000000000",
          "2019-10-31T00:00:00.000000000",
          "2019-11-01T00:00:00.000000000",
          "2019-11-02T00:00:00.000000000",
          "2019-11-03T00:00:00.000000000",
          "2019-11-04T00:00:00.000000000",
          "2019-11-05T00:00:00.000000000",
          "2019-11-06T00:00:00.000000000",
          "2019-11-07T00:00:00.000000000",
          "2019-11-08T00:00:00.000000000",
          "2019-11-09T00:00:00.000000000",
          "2019-11-10T00:00:00.000000000",
          "2019-11-11T00:00:00.000000000",
          "2019-11-12T00:00:00.000000000",
          "2019-11-13T00:00:00.000000000",
          "2019-11-14T00:00:00.000000000",
          "2019-11-15T00:00:00.000000000",
          "2019-11-16T00:00:00.000000000",
          "2019-11-17T00:00:00.000000000",
          "2019-11-18T00:00:00.000000000",
          "2019-11-19T00:00:00.000000000",
          "2019-11-20T00:00:00.000000000",
          "2019-11-21T00:00:00.000000000",
          "2019-11-22T00:00:00.000000000",
          "2019-11-23T00:00:00.000000000",
          "2019-11-24T00:00:00.000000000",
          "2019-11-25T00:00:00.000000000",
          "2019-11-26T00:00:00.000000000",
          "2019-11-27T00:00:00.000000000",
          "2019-11-28T00:00:00.000000000",
          "2019-11-29T00:00:00.000000000",
          "2019-11-30T00:00:00.000000000",
          "2019-12-01T00:00:00.000000000",
          "2019-12-02T00:00:00.000000000",
          "2019-12-03T00:00:00.000000000",
          "2019-12-04T00:00:00.000000000",
          "2019-12-05T00:00:00.000000000",
          "2019-12-06T00:00:00.000000000",
          "2019-12-07T00:00:00.000000000",
          "2019-12-08T00:00:00.000000000",
          "2019-12-09T00:00:00.000000000",
          "2019-12-10T00:00:00.000000000",
          "2019-12-11T00:00:00.000000000",
          "2019-12-12T00:00:00.000000000",
          "2019-12-13T00:00:00.000000000",
          "2019-12-14T00:00:00.000000000",
          "2019-12-15T00:00:00.000000000",
          "2019-12-16T00:00:00.000000000",
          "2019-12-17T00:00:00.000000000",
          "2019-12-18T00:00:00.000000000",
          "2019-12-19T00:00:00.000000000",
          "2019-12-20T00:00:00.000000000",
          "2019-12-21T00:00:00.000000000",
          "2019-12-22T00:00:00.000000000",
          "2019-12-23T00:00:00.000000000",
          "2019-12-24T00:00:00.000000000",
          "2019-12-25T00:00:00.000000000",
          "2019-12-26T00:00:00.000000000",
          "2019-12-27T00:00:00.000000000",
          "2019-12-28T00:00:00.000000000",
          "2019-12-29T00:00:00.000000000",
          "2019-12-30T00:00:00.000000000",
          "2019-12-31T00:00:00.000000000"
         ],
         "xaxis": "x",
         "y": {
          "bdata": "FQ4MEQ4RDQoLDA4RFwwKExANEhcLDw0OEBISCw0QERYVHQ4JCxQSDxwTDhIREREXDA0NExUPEwsSDxIYEhoOFBcXEB0TEhAUDxESFBgjGhgVFBUUGQsQFh8XEiEXFRkZKhAUGBMjGB0WHQsQIiYlFR0dERofHBIRHhgbHSESDhkVGiAZEyAdGRoVHxEXHRAYHxgbHxoZFyYhFB4gIiAgISQhGR8ZHhgTGREiHx4iHR0fEhsnIxUhGB4dGigVIBsZKyQoHx8dGBsjJhcZGRYiIBwdHiIdGB0kFhUaGRokJRUcGiUeJB0WFRcWHxwmFBcaICgaHRccFxwkGCUTHB0aHBcaEhMVGBUgGRESHB8XHx4VFxkNHSghGxsZGRsUFxQWFhYXERoMEhITFBIjERQVGiIbFhEUDSAaHiARFRkVHB0cFRsbGRgdJhkSGBMaHhATDg8dExMVCAwTCg4VFA8PCg8PFhoODBQQFxAYCBQ=",
          "dtype": "i1"
         },
         "yaxis": "y"
        },
        {
         "mode": "lines+markers",
         "name": "December 2022 Sales",
         "type": "scatter",
         "x": [
          "2022-12-01T00:00:00.000000000",
          "2022-12-02T00:00:00.000000000",
          "2022-12-03T00:00:00.000000000",
          "2022-12-04T00:00:00.000000000",
          "2022-12-05T00:00:00.000000000",
          "2022-12-06T00:00:00.000000000",
          "2022-12-07T00:00:00.000000000",
          "2022-12-08T00:00:00.000000000",
          "2022-12-09T00:00:00.000000000",
          "2022-12-10T00:00:00.000000000",
          "2022-12-11T00:00:00.000000000",
          "2022-12-12T00:00:00.000000000",
          "2022-12-13T00:00:00.000000000",
          "2022-12-14T00:00:00.000000000",
          "2022-12-15T00:00:00.000000000",
          "2022-12-16T00:00:00.000000000",
          "2022-12-17T00:00:00.000000000",
          "2022-12-18T00:00:00.000000000",
          "2022-12-19T00:00:00.000000000",
          "2022-12-20T00:00:00.000000000",
          "2022-12-21T00:00:00.000000000",
          "2022-12-22T00:00:00.000000000",
          "2022-12-23T00:00:00.000000000",
          "2022-12-24T00:00:00.000000000",
          "2022-12-25T00:00:00.000000000",
          "2022-12-26T00:00:00.000000000",
          "2022-12-27T00:00:00.000000000",
          "2022-12-28T00:00:00.000000000",
          "2022-12-29T00:00:00.000000000",
          "2022-12-30T00:00:00.000000000",
          "2022-12-31T00:00:00.000000000"
         ],
         "xaxis": "x2",
         "y": {
          "bdata": "FR0OFBQZFx0TFxUTGxEZHh0eDxQQGRcZJRsRExMfGg==",
          "dtype": "i1"
         },
         "yaxis": "y2"
        }
       ],
       "layout": {
        "annotations": [
         {
          "font": {
           "size": 16
          },
          "showarrow": false,
          "text": "2019 Sales",
          "x": 0.225,
          "xanchor": "center",
          "xref": "paper",
          "y": 1,
          "yanchor": "bottom",
          "yref": "paper"
         },
         {
          "font": {
           "size": 16
          },
          "showarrow": false,
          "text": "December 2022 Sales",
          "x": 0.775,
          "xanchor": "center",
          "xref": "paper",
          "y": 1,
          "yanchor": "bottom",
          "yref": "paper"
         }
        ],
        "height": 600,
        "showlegend": false,
        "template": {
         "data": {
          "bar": [
           {
            "error_x": {
             "color": "#2a3f5f"
            },
            "error_y": {
             "color": "#2a3f5f"
            },
            "marker": {
             "line": {
              "color": "#E5ECF6",
              "width": 0.5
             },
             "pattern": {
              "fillmode": "overlay",
              "size": 10,
              "solidity": 0.2
             }
            },
            "type": "bar"
           }
          ],
          "barpolar": [
           {
            "marker": {
             "line": {
              "color": "#E5ECF6",
              "width": 0.5
             },
             "pattern": {
              "fillmode": "overlay",
              "size": 10,
              "solidity": 0.2
             }
            },
            "type": "barpolar"
           }
          ],
          "carpet": [
           {
            "aaxis": {
             "endlinecolor": "#2a3f5f",
             "gridcolor": "white",
             "linecolor": "white",
             "minorgridcolor": "white",
             "startlinecolor": "#2a3f5f"
            },
            "baxis": {
             "endlinecolor": "#2a3f5f",
             "gridcolor": "white",
             "linecolor": "white",
             "minorgridcolor": "white",
             "startlinecolor": "#2a3f5f"
            },
            "type": "carpet"
           }
          ],
          "choropleth": [
           {
            "colorbar": {
             "outlinewidth": 0,
             "ticks": ""
            },
            "type": "choropleth"
           }
          ],
          "contour": [
           {
            "colorbar": {
             "outlinewidth": 0,
             "ticks": ""
            },
            "colorscale": [
             [
              0,
              "#0d0887"
             ],
             [
              0.1111111111111111,
              "#46039f"
             ],
             [
              0.2222222222222222,
              "#7201a8"
             ],
             [
              0.3333333333333333,
              "#9c179e"
             ],
             [
              0.4444444444444444,
              "#bd3786"
             ],
             [
              0.5555555555555556,
              "#d8576b"
             ],
             [
              0.6666666666666666,
              "#ed7953"
             ],
             [
              0.7777777777777778,
              "#fb9f3a"
             ],
             [
              0.8888888888888888,
              "#fdca26"
             ],
             [
              1,
              "#f0f921"
             ]
            ],
            "type": "contour"
           }
          ],
          "contourcarpet": [
           {
            "colorbar": {
             "outlinewidth": 0,
             "ticks": ""
            },
            "type": "contourcarpet"
           }
          ],
          "heatmap": [
           {
            "colorbar": {
             "outlinewidth": 0,
             "ticks": ""
            },
            "colorscale": [
             [
              0,
              "#0d0887"
             ],
             [
              0.1111111111111111,
              "#46039f"
             ],
             [
              0.2222222222222222,
              "#7201a8"
             ],
             [
              0.3333333333333333,
              "#9c179e"
             ],
             [
              0.4444444444444444,
              "#bd3786"
             ],
             [
              0.5555555555555556,
              "#d8576b"
             ],
             [
              0.6666666666666666,
              "#ed7953"
             ],
             [
              0.7777777777777778,
              "#fb9f3a"
             ],
             [
              0.8888888888888888,
              "#fdca26"
             ],
             [
              1,
              "#f0f921"
             ]
            ],
            "type": "heatmap"
           }
          ],
          "histogram": [
           {
            "marker": {
             "pattern": {
              "fillmode": "overlay",
              "size": 10,
              "solidity": 0.2
             }
            },
            "type": "histogram"
           }
          ],
          "histogram2d": [
           {
            "colorbar": {
             "outlinewidth": 0,
             "ticks": ""
            },
            "colorscale": [
             [
              0,
              "#0d0887"
             ],
             [
              0.1111111111111111,
              "#46039f"
             ],
             [
              0.2222222222222222,
              "#7201a8"
             ],
             [
              0.3333333333333333,
              "#9c179e"
             ],
             [
              0.4444444444444444,
              "#bd3786"
             ],
             [
              0.5555555555555556,
              "#d8576b"
             ],
             [
              0.6666666666666666,
              "#ed7953"
             ],
             [
              0.7777777777777778,
              "#fb9f3a"
             ],
             [
              0.8888888888888888,
              "#fdca26"
             ],
             [
              1,
              "#f0f921"
             ]
            ],
            "type": "histogram2d"
           }
          ],
          "histogram2dcontour": [
           {
            "colorbar": {
             "outlinewidth": 0,
             "ticks": ""
            },
            "colorscale": [
             [
              0,
              "#0d0887"
             ],
             [
              0.1111111111111111,
              "#46039f"
             ],
             [
              0.2222222222222222,
              "#7201a8"
             ],
             [
              0.3333333333333333,
              "#9c179e"
             ],
             [
              0.4444444444444444,
              "#bd3786"
             ],
             [
              0.5555555555555556,
              "#d8576b"
             ],
             [
              0.6666666666666666,
              "#ed7953"
             ],
             [
              0.7777777777777778,
              "#fb9f3a"
             ],
             [
              0.8888888888888888,
              "#fdca26"
             ],
             [
              1,
              "#f0f921"
             ]
            ],
            "type": "histogram2dcontour"
           }
          ],
          "mesh3d": [
           {
            "colorbar": {
             "outlinewidth": 0,
             "ticks": ""
            },
            "type": "mesh3d"
           }
          ],
          "parcoords": [
           {
            "line": {
             "colorbar": {
              "outlinewidth": 0,
              "ticks": ""
             }
            },
            "type": "parcoords"
           }
          ],
          "pie": [
           {
            "automargin": true,
            "type": "pie"
           }
          ],
          "scatter": [
           {
            "fillpattern": {
             "fillmode": "overlay",
             "size": 10,
             "solidity": 0.2
            },
            "type": "scatter"
           }
          ],
          "scatter3d": [
           {
            "line": {
             "colorbar": {
              "outlinewidth": 0,
              "ticks": ""
             }
            },
            "marker": {
             "colorbar": {
              "outlinewidth": 0,
              "ticks": ""
             }
            },
            "type": "scatter3d"
           }
          ],
          "scattercarpet": [
           {
            "marker": {
             "colorbar": {
              "outlinewidth": 0,
              "ticks": ""
             }
            },
            "type": "scattercarpet"
           }
          ],
          "scattergeo": [
           {
            "marker": {
             "colorbar": {
              "outlinewidth": 0,
              "ticks": ""
             }
            },
            "type": "scattergeo"
           }
          ],
          "scattergl": [
           {
            "marker": {
             "colorbar": {
              "outlinewidth": 0,
              "ticks": ""
             }
            },
            "type": "scattergl"
           }
          ],
          "scattermap": [
           {
            "marker": {
             "colorbar": {
              "outlinewidth": 0,
              "ticks": ""
             }
            },
            "type": "scattermap"
           }
          ],
          "scattermapbox": [
           {
            "marker": {
             "colorbar": {
              "outlinewidth": 0,
              "ticks": ""
             }
            },
            "type": "scattermapbox"
           }
          ],
          "scatterpolar": [
           {
            "marker": {
             "colorbar": {
              "outlinewidth": 0,
              "ticks": ""
             }
            },
            "type": "scatterpolar"
           }
          ],
          "scatterpolargl": [
           {
            "marker": {
             "colorbar": {
              "outlinewidth": 0,
              "ticks": ""
             }
            },
            "type": "scatterpolargl"
           }
          ],
          "scatterternary": [
           {
            "marker": {
             "colorbar": {
              "outlinewidth": 0,
              "ticks": ""
             }
            },
            "type": "scatterternary"
           }
          ],
          "surface": [
           {
            "colorbar": {
             "outlinewidth": 0,
             "ticks": ""
            },
            "colorscale": [
             [
              0,
              "#0d0887"
             ],
             [
              0.1111111111111111,
              "#46039f"
             ],
             [
              0.2222222222222222,
              "#7201a8"
             ],
             [
              0.3333333333333333,
              "#9c179e"
             ],
             [
              0.4444444444444444,
              "#bd3786"
             ],
             [
              0.5555555555555556,
              "#d8576b"
             ],
             [
              0.6666666666666666,
              "#ed7953"
             ],
             [
              0.7777777777777778,
              "#fb9f3a"
             ],
             [
              0.8888888888888888,
              "#fdca26"
             ],
             [
              1,
              "#f0f921"
             ]
            ],
            "type": "surface"
           }
          ],
          "table": [
           {
            "cells": {
             "fill": {
              "color": "#EBF0F8"
             },
             "line": {
              "color": "white"
             }
            },
            "header": {
             "fill": {
              "color": "#C8D4E3"
             },
             "line": {
              "color": "white"
             }
            },
            "type": "table"
           }
          ]
         },
         "layout": {
          "annotationdefaults": {
           "arrowcolor": "#2a3f5f",
           "arrowhead": 0,
           "arrowwidth": 1
          },
          "autotypenumbers": "strict",
          "coloraxis": {
           "colorbar": {
            "outlinewidth": 0,
            "ticks": ""
           }
          },
          "colorscale": {
           "diverging": [
            [
             0,
             "#8e0152"
            ],
            [
             0.1,
             "#c51b7d"
            ],
            [
             0.2,
             "#de77ae"
            ],
            [
             0.3,
             "#f1b6da"
            ],
            [
             0.4,
             "#fde0ef"
            ],
            [
             0.5,
             "#f7f7f7"
            ],
            [
             0.6,
             "#e6f5d0"
            ],
            [
             0.7,
             "#b8e186"
            ],
            [
             0.8,
             "#7fbc41"
            ],
            [
             0.9,
             "#4d9221"
            ],
            [
             1,
             "#276419"
            ]
           ],
           "sequential": [
            [
             0,
             "#0d0887"
            ],
            [
             0.1111111111111111,
             "#46039f"
            ],
            [
             0.2222222222222222,
             "#7201a8"
            ],
            [
             0.3333333333333333,
             "#9c179e"
            ],
            [
             0.4444444444444444,
             "#bd3786"
            ],
            [
             0.5555555555555556,
             "#d8576b"
            ],
            [
             0.6666666666666666,
             "#ed7953"
            ],
            [
             0.7777777777777778,
             "#fb9f3a"
            ],
            [
             0.8888888888888888,
             "#fdca26"
            ],
            [
             1,
             "#f0f921"
            ]
           ],
           "sequentialminus": [
            [
             0,
             "#0d0887"
            ],
            [
             0.1111111111111111,
             "#46039f"
            ],
            [
             0.2222222222222222,
             "#7201a8"
            ],
            [
             0.3333333333333333,
             "#9c179e"
            ],
            [
             0.4444444444444444,
             "#bd3786"
            ],
            [
             0.5555555555555556,
             "#d8576b"
            ],
            [
             0.6666666666666666,
             "#ed7953"
            ],
            [
             0.7777777777777778,
             "#fb9f3a"
            ],
            [
             0.8888888888888888,
             "#fdca26"
            ],
            [
             1,
             "#f0f921"
            ]
           ]
          },
          "colorway": [
           "#636efa",
           "#EF553B",
           "#00cc96",
           "#ab63fa",
           "#FFA15A",
           "#19d3f3",
           "#FF6692",
           "#B6E880",
           "#FF97FF",
           "#FECB52"
          ],
          "font": {
           "color": "#2a3f5f"
          },
          "geo": {
           "bgcolor": "white",
           "lakecolor": "white",
           "landcolor": "#E5ECF6",
           "showlakes": true,
           "showland": true,
           "subunitcolor": "white"
          },
          "hoverlabel": {
           "align": "left"
          },
          "hovermode": "closest",
          "mapbox": {
           "style": "light"
          },
          "paper_bgcolor": "white",
          "plot_bgcolor": "#E5ECF6",
          "polar": {
           "angularaxis": {
            "gridcolor": "white",
            "linecolor": "white",
            "ticks": ""
           },
           "bgcolor": "#E5ECF6",
           "radialaxis": {
            "gridcolor": "white",
            "linecolor": "white",
            "ticks": ""
           }
          },
          "scene": {
           "xaxis": {
            "backgroundcolor": "#E5ECF6",
            "gridcolor": "white",
            "gridwidth": 2,
            "linecolor": "white",
            "showbackground": true,
            "ticks": "",
            "zerolinecolor": "white"
           },
           "yaxis": {
            "backgroundcolor": "#E5ECF6",
            "gridcolor": "white",
            "gridwidth": 2,
            "linecolor": "white",
            "showbackground": true,
            "ticks": "",
            "zerolinecolor": "white"
           },
           "zaxis": {
            "backgroundcolor": "#E5ECF6",
            "gridcolor": "white",
            "gridwidth": 2,
            "linecolor": "white",
            "showbackground": true,
            "ticks": "",
            "zerolinecolor": "white"
           }
          },
          "shapedefaults": {
           "line": {
            "color": "#2a3f5f"
           }
          },
          "ternary": {
           "aaxis": {
            "gridcolor": "white",
            "linecolor": "white",
            "ticks": ""
           },
           "baxis": {
            "gridcolor": "white",
            "linecolor": "white",
            "ticks": ""
           },
           "bgcolor": "#E5ECF6",
           "caxis": {
            "gridcolor": "white",
            "linecolor": "white",
            "ticks": ""
           }
          },
          "title": {
           "x": 0.05
          },
          "xaxis": {
           "automargin": true,
           "gridcolor": "white",
           "linecolor": "white",
           "ticks": "",
           "title": {
            "standoff": 15
           },
           "zerolinecolor": "white",
           "zerolinewidth": 2
          },
          "yaxis": {
           "automargin": true,
           "gridcolor": "white",
           "linecolor": "white",
           "ticks": "",
           "title": {
            "standoff": 15
           },
           "zerolinecolor": "white",
           "zerolinewidth": 2
          }
         }
        },
        "title": {
         "text": "Sales for Item 4 at Store 2"
        },
        "width": 1200,
        "xaxis": {
         "anchor": "y",
         "domain": [
          0,
          0.45
         ],
         "dtick": "M3",
         "tickformat": "%m %Y",
         "title": {
          "text": "Date"
         }
        },
        "xaxis2": {
         "anchor": "y2",
         "domain": [
          0.55,
          1
         ],
         "dtick": 259200000,
         "tickangle": 45,
         "tickformat": "%d %m",
         "title": {
          "text": "Date"
         }
        },
        "yaxis": {
         "anchor": "x",
         "domain": [
          0,
          1
         ],
         "title": {
          "text": "Sales"
         }
        },
        "yaxis2": {
         "anchor": "x2",
         "domain": [
          0,
          1
         ],
         "title": {
          "text": "Sales"
         }
        }
       }
      }
     },
     "metadata": {},
     "output_type": "display_data"
    }
   ],
   "source": [
    "fig = make_subplots(rows=1,\n",
    "                    cols=2,\n",
    "                    subplot_titles=(\"2019 Sales\", \"December 2022 Sales\"))\n",
    "\n",
    "fig.add_trace(\n",
    "    go.Scatter(x=df_sales_2019['date'],\n",
    "                y=df_sales_2019['sales'],\n",
    "                mode='lines+markers',\n",
    "                name='2019 Sales'),\n",
    "    row=1, col=1\n",
    ")\n",
    "\n",
    "fig.add_trace(\n",
    "    go.Scatter(x=df_sales_dec_2022['date'],\n",
    "                y=df_sales_dec_2022['sales'],\n",
    "                mode='lines+markers',\n",
    "                name='December 2022 Sales'),\n",
    "    row=1, col=2\n",
    ")\n",
    "\n",
    "fig.update_layout(\n",
    "    title_text=f'Sales for Item {item} at Store {store}',\n",
    "    xaxis_title='Date',\n",
    "    yaxis_title='Sales',\n",
    "    height=600,\n",
    "    width=1200,\n",
    "    showlegend=False\n",
    ")\n",
    "\n",
    "fig.update_xaxes(\n",
    "    dtick=\"M3\",  \n",
    "    tickformat=\"%m %Y\",  \n",
    "    row=1, col=1\n",
    ")\n",
    "\n",
    "fig.update_xaxes(\n",
    "    title_text='Date',\n",
    "    dtick=3 * 24 * 60 * 60 * 1000,\n",
    "    tickangle=45,\n",
    "    tickformat=\"%d %m\",\n",
    "    row=1, col=2,\n",
    "\n",
    "    \n",
    ")\n",
    "\n",
    "fig.update_yaxes(title_text='Sales')\n",
    "fig.show()"
   ]
  },
  {
   "cell_type": "markdown",
   "id": "8cea8cb9",
   "metadata": {},
   "source": [
    "# Stats"
   ]
  },
  {
   "cell_type": "code",
   "execution_count": 79,
   "id": "164c9522",
   "metadata": {},
   "outputs": [],
   "source": [
    "# Dickey-Fuller function\n",
    "\n",
    "\n",
    "\n",
    "def dickey_fuller(series, signif_levels=[0.01, 0.05, 0.10], verbose=True):\n",
    "    if series.isnull().any():\n",
    "        raise ValueError(\"Null values found\")\n",
    "\n",
    "    result = adfuller(series, autolag='AIC')\n",
    "\n",
    "    t_stat, p_value, n_lags, n_obs, crit_values, ic_best = result\n",
    "\n",
    "    evaluation = {\n",
    "        'ADF Test Statistic': t_stat,\n",
    "        'p-value': p_value,\n",
    "        'Used Lags': n_lags,\n",
    "        'Observations': n_obs,\n",
    "        'Critical Values': crit_values,\n",
    "        'Stationary (by level)': {}\n",
    "    }\n",
    "\n",
    "    for level in signif_levels:\n",
    "        key = f\"{int(level * 100)}%\"\n",
    "        crit_val = crit_values[key]\n",
    "        is_stationary = t_stat < crit_val\n",
    "        evaluation['Stationary (by level)'][key] = is_stationary\n",
    "\n",
    "    if verbose:\n",
    "        print(\"🔎 Dickey-Fuller Test Results\")\n",
    "        print(f\"Test Statistic: {t_stat:.4f}\")\n",
    "        print(f\"p-value: {p_value:.4f}\")\n",
    "        print(f\"Used Lags: {n_lags}\")\n",
    "        print(f\"Number of Observations: {n_obs}\")\n",
    "        print(\"Critical Values:\")\n",
    "        for k, v in crit_values.items():\n",
    "            print(f\"  {k}: {v:.4f}\")\n",
    "\n",
    "        for level in signif_levels:\n",
    "            key = f\"{int(level * 100)}%\"\n",
    "            result_str = \"Stationary\" if evaluation['Stationary (by level)'][key] else \" Not Stationary\"\n",
    "            print(f\"{key} level: {result_str}\")\n",
    "\n",
    "        return None\n",
    "    else:\n",
    "        return evaluation"
   ]
  },
  {
   "cell_type": "code",
   "execution_count": 80,
   "id": "7cc24821",
   "metadata": {},
   "outputs": [
    {
     "data": {
      "application/vnd.microsoft.datawrangler.viewer.v0+json": {
       "columns": [
        {
         "name": "date",
         "rawType": "object",
         "type": "string"
        },
        {
         "name": "sales",
         "rawType": "int64",
         "type": "integer"
        }
       ],
       "ref": "e96ce1ad-fa77-40a4-a2fc-3ac6516f6a2c",
       "rows": [
        [
         "2019-01-01",
         "21"
        ],
        [
         "2019-01-02",
         "14"
        ],
        [
         "2019-01-03",
         "12"
        ],
        [
         "2019-01-04",
         "17"
        ],
        [
         "2019-01-05",
         "14"
        ],
        [
         "2019-01-06",
         "17"
        ],
        [
         "2019-01-07",
         "13"
        ],
        [
         "2019-01-08",
         "10"
        ],
        [
         "2019-01-09",
         "11"
        ],
        [
         "2019-01-10",
         "12"
        ],
        [
         "2019-01-11",
         "14"
        ],
        [
         "2019-01-12",
         "17"
        ],
        [
         "2019-01-13",
         "23"
        ],
        [
         "2019-01-14",
         "12"
        ],
        [
         "2019-01-15",
         "10"
        ],
        [
         "2019-01-16",
         "19"
        ],
        [
         "2019-01-17",
         "16"
        ],
        [
         "2019-01-18",
         "13"
        ],
        [
         "2019-01-19",
         "18"
        ],
        [
         "2019-01-20",
         "23"
        ],
        [
         "2019-01-21",
         "11"
        ],
        [
         "2019-01-22",
         "15"
        ],
        [
         "2019-01-23",
         "13"
        ],
        [
         "2019-01-24",
         "14"
        ],
        [
         "2019-01-25",
         "16"
        ],
        [
         "2019-01-26",
         "18"
        ],
        [
         "2019-01-27",
         "18"
        ],
        [
         "2019-01-28",
         "11"
        ],
        [
         "2019-01-29",
         "13"
        ],
        [
         "2019-01-30",
         "16"
        ],
        [
         "2019-01-31",
         "17"
        ],
        [
         "2019-02-01",
         "22"
        ],
        [
         "2019-02-02",
         "21"
        ],
        [
         "2019-02-03",
         "29"
        ],
        [
         "2019-02-04",
         "14"
        ],
        [
         "2019-02-05",
         "9"
        ],
        [
         "2019-02-06",
         "11"
        ],
        [
         "2019-02-07",
         "20"
        ],
        [
         "2019-02-08",
         "18"
        ],
        [
         "2019-02-09",
         "15"
        ],
        [
         "2019-02-10",
         "28"
        ],
        [
         "2019-02-11",
         "19"
        ],
        [
         "2019-02-12",
         "14"
        ],
        [
         "2019-02-13",
         "18"
        ],
        [
         "2019-02-14",
         "17"
        ],
        [
         "2019-02-15",
         "17"
        ],
        [
         "2019-02-16",
         "17"
        ],
        [
         "2019-02-17",
         "23"
        ],
        [
         "2019-02-18",
         "12"
        ],
        [
         "2019-02-19",
         "13"
        ]
       ],
       "shape": {
        "columns": 1,
        "rows": 1826
       }
      },
      "text/plain": [
       "date\n",
       "2019-01-01    21\n",
       "2019-01-02    14\n",
       "2019-01-03    12\n",
       "2019-01-04    17\n",
       "2019-01-05    14\n",
       "              ..\n",
       "2023-12-27    26\n",
       "2023-12-28    23\n",
       "2023-12-29    21\n",
       "2023-12-30    35\n",
       "2023-12-31    29\n",
       "Name: sales, Length: 1826, dtype: int64"
      ]
     },
     "execution_count": 80,
     "metadata": {},
     "output_type": "execute_result"
    }
   ],
   "source": [
    "df_sales_2"
   ]
  },
  {
   "cell_type": "code",
   "execution_count": 81,
   "id": "e125e24a",
   "metadata": {},
   "outputs": [
    {
     "name": "stdout",
     "output_type": "stream",
     "text": [
      "🔎 Dickey-Fuller Test Results\n",
      "Test Statistic: -2.9493\n",
      "p-value: 0.0399\n",
      "Used Lags: 22\n",
      "Number of Observations: 1803\n",
      "Critical Values:\n",
      "  1%: -3.4340\n",
      "  5%: -2.8631\n",
      "  10%: -2.5676\n",
      "1% level:  Not Stationary\n",
      "5% level: Stationary\n",
      "10% level: Stationary\n"
     ]
    }
   ],
   "source": [
    "dickey_fuller(df_sales_2, verbose=True)"
   ]
  },
  {
   "cell_type": "code",
   "execution_count": null,
   "id": "944d8b78",
   "metadata": {},
   "outputs": [],
   "source": []
  }
 ],
 "metadata": {
  "kernelspec": {
   "display_name": "ml-py3.12",
   "language": "python",
   "name": "python3"
  },
  "language_info": {
   "codemirror_mode": {
    "name": "ipython",
    "version": 3
   },
   "file_extension": ".py",
   "mimetype": "text/x-python",
   "name": "python",
   "nbconvert_exporter": "python",
   "pygments_lexer": "ipython3",
   "version": "3.12.2"
  }
 },
 "nbformat": 4,
 "nbformat_minor": 5
}
